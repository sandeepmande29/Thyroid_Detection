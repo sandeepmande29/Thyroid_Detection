{
 "cells": [
  {
   "cell_type": "code",
   "execution_count": 1,
   "metadata": {},
   "outputs": [],
   "source": [
    "import os"
   ]
  },
  {
   "cell_type": "code",
   "execution_count": 2,
   "metadata": {},
   "outputs": [
    {
     "data": {
      "text/plain": [
       "'c:\\\\Users\\\\hp\\\\Desktop\\\\ML\\\\project\\\\Thyroid_Detection\\\\research'"
      ]
     },
     "execution_count": 2,
     "metadata": {},
     "output_type": "execute_result"
    }
   ],
   "source": [
    "%pwd"
   ]
  },
  {
   "cell_type": "code",
   "execution_count": 3,
   "metadata": {},
   "outputs": [],
   "source": [
    "os.chdir('../')"
   ]
  },
  {
   "cell_type": "code",
   "execution_count": 4,
   "metadata": {},
   "outputs": [
    {
     "data": {
      "text/plain": [
       "'c:\\\\Users\\\\hp\\\\Desktop\\\\ML\\\\project\\\\Thyroid_Detection'"
      ]
     },
     "execution_count": 4,
     "metadata": {},
     "output_type": "execute_result"
    }
   ],
   "source": [
    "%pwd"
   ]
  },
  {
   "cell_type": "code",
   "execution_count": 5,
   "metadata": {},
   "outputs": [],
   "source": [
    "from dataclasses import dataclass\n",
    "from pathlib import Path\n",
    "\n",
    "\n",
    "@dataclass(frozen=True)\n",
    "class ModelTrainerConfig:\n",
    "    root_dir: Path\n",
    "    train_x_data_path: Path\n",
    "    test_x_data_path: Path\n",
    "    train_y_data_path: Path\n",
    "    test_y_data_path: Path\n",
    "    model_name: str\n",
    "    criterion: str\n",
    "    splitter: str\n",
    "    max_depth: str\n",
    "    min_samples_split: int\n",
    "    min_samples_leaf: int\n",
    "    min_weight_fraction_leaf: float\n",
    "    max_features: str\n",
    "    random_state: int\n",
    "    max_leaf_nodes: str\n",
    "    min_impurity_decrease: float\n",
    "    class_weight: str\n",
    "    ccp_alpha: float\n",
    "    target_column: str"
   ]
  },
  {
   "cell_type": "code",
   "execution_count": 6,
   "metadata": {},
   "outputs": [],
   "source": [
    "from mlProject.constants import *\n",
    "from mlProject.utils.common import read_yaml, create_directories"
   ]
  },
  {
   "cell_type": "code",
   "execution_count": 7,
   "metadata": {},
   "outputs": [],
   "source": [
    "class ConfigurationManager:\n",
    "    def __init__(\n",
    "        self,\n",
    "        config_filepath = CONFIG_FILE_PATH,\n",
    "        params_filepath = PARAMS_FILE_PATH,\n",
    "        schema_filepath = SCHEMA_FILE_PATH):\n",
    "\n",
    "        self.config = read_yaml(config_filepath)\n",
    "        self.params = read_yaml(params_filepath)\n",
    "        self.schema = read_yaml(schema_filepath)\n",
    "\n",
    "        create_directories([self.config.artifacts_root])\n",
    "\n",
    "\n",
    "    def get_model_trainer_config(self) -> ModelTrainerConfig:\n",
    "        config = self.config.model_trainer\n",
    "        params = self.params.DecisionTreeClassifier\n",
    "        schema =  self.schema.TARGET_COLUMN\n",
    "\n",
    "        create_directories([config.root_dir])\n",
    "\n",
    "        model_trainer_config = ModelTrainerConfig(\n",
    "            root_dir=config.root_dir,\n",
    "            train_x_data_path = config.train_x_data_path,\n",
    "            test_x_data_path = config.test_x_data_path,\n",
    "            train_y_data_path = config.train_y_data_path,\n",
    "            test_y_data_path = config.test_y_data_path,\n",
    "            model_name = config.model_name,\n",
    "            criterion= params.criterion,\n",
    "            splitter = params.splitter,\n",
    "            max_depth = params.max_depth,\n",
    "            min_samples_split = params.min_samples_split,\n",
    "            min_samples_leaf = params.min_samples_leaf,\n",
    "            min_weight_fraction_leaf = params.min_weight_fraction_leaf,\n",
    "            max_features = params.max_features,\n",
    "            random_state = params.random_state,\n",
    "            max_leaf_nodes = params.max_leaf_nodes,\n",
    "            min_impurity_decrease = params.min_impurity_decrease,\n",
    "            class_weight = params.class_weight,\n",
    "            ccp_alpha = params.ccp_alpha,\n",
    "            target_column = schema.name\n",
    "            \n",
    "        )\n",
    "\n",
    "        return model_trainer_config"
   ]
  },
  {
   "cell_type": "code",
   "execution_count": 8,
   "metadata": {},
   "outputs": [],
   "source": [
    "import pandas as pd\n",
    "import os\n",
    "from mlProject import logger\n",
    "from sklearn.tree import DecisionTreeClassifier\n",
    "import joblib"
   ]
  },
  {
   "cell_type": "code",
   "execution_count": 9,
   "metadata": {},
   "outputs": [],
   "source": [
    "class ModelTrainer:\n",
    "    def __init__(self, config: ModelTrainerConfig):\n",
    "        self.config = config\n",
    "\n",
    "    \n",
    "    def train(self):\n",
    "        train_x = pd.read_csv(self.config.train_x_data_path)\n",
    "        train_y = pd.read_csv(self.config.train_y_data_path)\n",
    " \n",
    "\n",
    "        dt = DecisionTreeClassifier(criterion= self.config.criterion,splitter= self.config.splitter,random_state = self.config.random_state,ccp_alpha=self.config.ccp_alpha)\n",
    "        dt.fit(train_x, train_y)\n",
    "\n",
    "        joblib.dump(dt, os.path.join(self.config.root_dir, self.config.model_name))"
   ]
  },
  {
   "cell_type": "code",
   "execution_count": 10,
   "metadata": {},
   "outputs": [
    {
     "name": "stdout",
     "output_type": "stream",
     "text": [
      "[2023-11-06 10:01:12,912: INFO: common: yaml file: config\\config.yaml loaded successfully]\n",
      "[2023-11-06 10:01:12,916: INFO: common: yaml file: params.yaml loaded successfully]\n",
      "[2023-11-06 10:01:12,932: INFO: common: yaml file: schema.yaml loaded successfully]\n",
      "[2023-11-06 10:01:12,932: INFO: common: created directory at: artifacts]\n",
      "[2023-11-06 10:01:12,938: INFO: common: created directory at: artifacts/model_trainer]\n"
     ]
    }
   ],
   "source": [
    "try:\n",
    "    config = ConfigurationManager()\n",
    "    model_trainer_config = config.get_model_trainer_config()\n",
    "    model_trainer_config = ModelTrainer(config=model_trainer_config)\n",
    "    model_trainer_config.train()\n",
    "except Exception as e:\n",
    "    raise e"
   ]
  },
  {
   "cell_type": "code",
   "execution_count": null,
   "metadata": {},
   "outputs": [],
   "source": []
  },
  {
   "cell_type": "code",
   "execution_count": null,
   "metadata": {},
   "outputs": [],
   "source": []
  },
  {
   "cell_type": "code",
   "execution_count": null,
   "metadata": {},
   "outputs": [],
   "source": []
  }
 ],
 "metadata": {
  "kernelspec": {
   "display_name": "Python 3",
   "language": "python",
   "name": "python3"
  },
  "language_info": {
   "codemirror_mode": {
    "name": "ipython",
    "version": 3
   },
   "file_extension": ".py",
   "mimetype": "text/x-python",
   "name": "python",
   "nbconvert_exporter": "python",
   "pygments_lexer": "ipython3",
   "version": "3.9.0"
  }
 },
 "nbformat": 4,
 "nbformat_minor": 2
}
